{
 "cells": [
  {
   "cell_type": "markdown",
   "metadata": {},
   "source": [
    "# Introduction\n",
    "\n",
    "The principal electrical resistance can be applied through the use of resistors,\n",
    "some of the most versatile components in circuitry, with applications ranging\n",
    "from reduction of wattage, distribution of voltages to directing electrical\n",
    "current towards desired components. Within this lab we intend to explore\n",
    "electrical resistance as a concept and the equations that predict its behavior.\n",
    "We will investigate the relationship between the cross-sectional area, length\n",
    "and resistance, alongside determining the impact that voltage can have on\n",
    "non-dedicated resistors.\n",
    "\n"
   ]
  },
  {
   "cell_type": "code",
   "execution_count": 5,
   "metadata": {},
   "outputs": [],
   "source": [
    "from math import *\n",
    "\n",
    "import matplotlib.pyplot as plt\n",
    "import numpy as np\n",
    "from scipy.optimize import curve_fit\n"
   ]
  },
  {
   "cell_type": "markdown",
   "metadata": {},
   "source": [
    "# Problem: One Minute Sketch, One Minute Math\n",
    "\n",
    "**Materials:** Resistor, calipers.\n",
    "\n",
    "**Method:** The dimensions of the resistor were measured. The resistor was drawn\n",
    "according to the measurements. Use the dimensions to calculate the resistance,\n",
    "then compare to other resistors.\n",
    "\n",
    "![Resistor](img_1.png)\n",
    "\n",
    "Calculations for resistivity:\n",
    "\n",
    "$$ A = \\pi r^2 $$\n",
    "\n",
    "$$ \\rho = R\\frac{A}{l} \\implies \\rho = R\\frac{\\pi r^2}{l} $$\n",
    "\n"
   ]
  },
  {
   "cell_type": "code",
   "execution_count": 6,
   "metadata": {},
   "outputs": [
    {
     "name": "stdout",
     "output_type": "stream",
     "text": [
      "1.116 ohm-mm\n"
     ]
    }
   ],
   "source": [
    "radius = (3.9 / 2)*1e-3 # m, eye-balled \"average\" radius\n",
    "length = 10.7e-3 # m\n",
    "resistance = 1 # ohm\n",
    "\n",
    "rho = resistance * pi * (radius ** 2) / length\n",
    "print(f\"{round(rho * 1e3, 3)} ohm-mm\")"
   ]
  },
  {
   "cell_type": "markdown",
   "metadata": {},
   "source": [
    "## Data and Analysis\n",
    "\n",
    "The number gathered, 1.116 ohm-mm, seems reasonable. The resistor is millimeters\n",
    "in size, has a resistance of 1 ohm, and, similarly, a predicted resistivity of\n",
    "~1 ohm-mm."
   ]
  },
  {
   "cell_type": "markdown",
   "metadata": {},
   "source": [
    "# Problem: What's the Skinny on Resistance\n",
    "\n",
    "**Materials:** Paper resistors, desktop power supply, voltmeter.\n",
    "\n",
    "**Method:** Consider each resistor in terms of B, where the length and height are\n",
    "both equal to 1. Apply the formula for resistance for each resistor, assuming B\n",
    "has a resistance of 1 ohm. Consider the predictions in terms of each other. Form\n",
    "a prediction for the current if subjected to a voltage of 9V.\n",
    "\n",
    "Set up the power supply and power it to 9V, Using the voltmeter, take\n",
    "measurements at each point predicted. Compare these measurements to the\n",
    "predicted values.\n",
    "\n",
    "The ratios gathered from the size of the paper resistors:\n",
    "\n",
    "|   | $A$ | $l$ |\n",
    "|---|-----|-----|\n",
    "| D | 2   | 2   |\n",
    "| C | 2   | 1   |\n",
    "| B | 1   | 1   |\n",
    "| A | 1   | 2   |\n",
    "\n",
    "The lab document states that the resistance of $R_C = 1 \\Omega$. Finding the ratios:\n",
    "\n",
    "$$ R = \\frac{l}{A}\\rho \\implies R \\propto \\frac{l}{A} $$\n",
    "\n",
    "$$ R_D = 1, \\; R_C = \\frac{1}{2}, \\; R_B = 1, \\; R_A = 2 $$\n",
    "\n",
    "And multiplying the ratios to match the known value of $R_C$, our prediction is:\n",
    "\n",
    "$$ R_D = 2\\Omega, \\; R_C = 1\\Omega, \\; R_B = 2\\Omega, \\; R_A = 4\\Omega $$\n",
    "\n",
    "$$ \\boxed{R_A > R_B = R_D > R_C} $$\n",
    "\n",
    "The equivalent resistance is the sum of the resistors in series. Next, a voltage\n",
    "divider to find the voltage across each resistor:\n",
    "\n",
    "$$ V_R = V \\frac{R}{R_{eq}} \\qquad R_{eq} = (2 + 1 + 2 + 4) \\Omega = 9 \\Omega $$\n",
    "\n",
    "Assuming $V = 9 \\mathrm{V}$:\n",
    "\n",
    "$$ \\boxed{V_D = 2 \\mathrm{V}, \\; V_C = 1 \\mathrm{V}, \\; V_B = 2 \\mathrm{V}, \\; V_A = 4\n",
    "\\mathrm{V}} $$\n",
    "\n",
    "The current can be found with Ohm's law and the equivelent resistance:\n",
    "\n",
    "$$ I = \\frac{V}{R_{eq}} \\implies \\boxed{I = 1 \\mathrm{A}} $$\n",
    "\n",
    "## Data and Analysis\n",
    "\n",
    "The voltages each of the nodes compared to the estimated voltage drops:\n",
    "\n",
    "|          | $V_i$ | $V_{AB}$ | $V_{BC}$ | $V_{CD}$ | $V_{f}$ |\n",
    "|----------|-------|----------|----------|----------|---------|\n",
    "| Est.     | 9     | 5        | 3        | 2        | 0       |\n",
    "| Measured | 8.9   | 3.3      | 2        | 1.12     | 0       |\n",
    "\n",
    "Our measured current was: unknown --- technical difficulties. (Some of the other\n",
    "groups got between 60-80 μA.)\n",
    "\n",
    "The voltages at each node are in the same order from greatest to zero, but the\n",
    "values are each off by 1-2V. This could be due to the paper not being completely\n",
    "uniform, meaning the resistivity varied throughout and thus the resistance.\n",
    "\n"
   ]
  },
  {
   "cell_type": "markdown",
   "metadata": {},
   "source": [
    "# Problem: Playdoh Power\n",
    "\n",
    "**Materials:** Playdoh, conductive plates, desktop power supply, voltmeter, ammeter\n",
    "\n",
    "**Method:** Clean the conductive brackets, if needed. Mold playdoh into a\n",
    "cylindrical, makeshift resistor, then attach the conductive brackets to each\n",
    "end. Take note of the dimensions of the resistor. Attach the probes for the\n",
    "ammeter into the resistor, measure the distance between each probe. Set the\n",
    "power supply to 9V and take measurements for voltage and current.\n",
    "\n",
    "$$ \\rho = R\\frac{A}{l} \\qquad R = \\frac{V}{I} $$\n",
    "\n",
    "$$ \\boxed{\\rho = \\frac{V\\pi r^2}{Il}} $$\n",
    "\n"
   ]
  },
  {
   "cell_type": "code",
   "execution_count": 7,
   "metadata": {},
   "outputs": [
    {
     "name": "stdout",
     "output_type": "stream",
     "text": [
      "7.683 ohm-m\n"
     ]
    }
   ],
   "source": [
    "length = 0.115 # m\n",
    "radius = 0.055 / 2 # m\n",
    "voltage = 9 # V\n",
    "current = 24.2e-3 # A\n",
    "\n",
    "rho = voltage * pi * (radius ** 2) / (current * length)\n",
    "\n",
    "print(f\"{round(rho, 3)} ohm-m\")\n"
   ]
  },
  {
   "cell_type": "markdown",
   "metadata": {},
   "source": [
    "## Data and Analysis\n",
    "\n",
    "The playdoh is around 7000 times as resistive as the 1 ohm resistor from problem\n",
    "(1). This makes sense as the playdoh is an insulator, unlike the more conductive\n",
    "resistor designed specifically for electronics.\n",
    "\n",
    "# Conclusion\n",
    "\n",
    "Understanding the concept of electrical resistance is essential for electrical\n",
    "engineering. Resistors have countless applications and are essential components\n",
    "of circuits. Through this lab we investigated the relationship between\n",
    "cross-sectional area, length and resistance across a variety of resistors\n",
    "ranging from dedicated resistors where we applied these formulas to calculate\n",
    "the resistivity of our resistor to be 1.116 ohm-mm, the improvised paper\n",
    "resistors, where we measured the voltage drops to be similar to our predictions,\n",
    "(e.g. 3.3 V, etc.) and finally our playdoh resistor, where our measured\n",
    "resistance, 7.683 ohm-m, aligned with our expectations. \n",
    "\n",
    "\n",
    "\n"
   ]
  }
 ],
 "metadata": {
  "authors": [
   {
    "name": "Jonah Spector"
   },
   {
    "name": "Elias Faughn"
   },
   {
    "name": "Alec Gray"
   }
  ],
  "kernelspec": {
   "display_name": "Python 3",
   "language": "python",
   "name": "python3"
  },
  "language_info": {
   "codemirror_mode": {
    "name": "ipython",
    "version": 3
   },
   "file_extension": ".py",
   "mimetype": "text/x-python",
   "name": "python",
   "nbconvert_exporter": "python",
   "pygments_lexer": "ipython3",
   "version": "3.12.8"
  },
  "title": "Lab 5: Resistors and Resistivity"
 },
 "nbformat": 4,
 "nbformat_minor": 2
}
