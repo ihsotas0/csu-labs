{
 "cells": [
  {
   "cell_type": "markdown",
   "metadata": {},
   "source": [
    "# Introduction\n",
    "\n",
    "While it may be a drag, you can predict the motion of objects to extreme\n",
    "precision, depending on how much detail you are willing to put into your model.\n",
    "In this lab, we will attempt to predict the motion of a cart under acceleration,\n",
    "Primarily, we will focus on the application of our understanding of drag,\n",
    "thrust, and other variable forces. We will need to apply the principal of\n",
    "integration of forces to predict the kinematics of the cart, since we will be\n",
    "unable to solve this analytically given that the force of the thruster will\n",
    "deteriorate over time.\n",
    "\n",
    "To find the times it takes the cart to reach certain distances after the\n",
    "thruster is activated leads to the following free body diagram:\n",
    "\n",
    "![Cart Free Body Diagram](cart_free_body.png)\n",
    "\n",
    "This creates a differential equation for the cart's acceleration when solving\n",
    "using Newton's Second Law:\n",
    "\n",
    "$$ \\frac{\\mathrm{d}v}{\\mathrm{d}t} = \\frac{F_T(t) - \\mu_r mg - \\frac{1}{2}C_D\n",
    "\\rho A v^2}{m} $$ \n",
    "\n",
    "Solving this equation is unnecessary for the Python numerical approximation.\n",
    "Instead of using LoggerPro, we decided to use a Matplotlib and NumPy.\n"
   ]
  },
  {
   "cell_type": "code",
   "execution_count": 1,
   "metadata": {},
   "outputs": [],
   "source": [
    "# Imports\n",
    "from math import *\n",
    "from numpy import genfromtxt\n",
    "from IPython.display import Video\n",
    "import numpy as np\n",
    "import matplotlib.pyplot as plt\n",
    "\n",
    "# Gravity\n",
    "g = 9.81 # m/s^2\n"
   ]
  },
  {
   "cell_type": "markdown",
   "metadata": {},
   "source": [
    "# Finding Coefficient of Rolling Friction\n",
    "\n",
    "Since we are taking air drag into account, calculating the friction coefficient\n",
    "becomes more difficult. But as long as we keep the velocities low enough, drag\n",
    "should not have a big impact, and can be ignored. So, since rolling friction\n",
    "acts the same as kinetic friction, a previous experiment from Lab 5 can be used\n",
    "where the velocities involved were quite low.\n",
    "\n",
    "In that lab, the theta method for finding the kinetic coefficient of friction\n",
    "turned out to be the most accurate method. The condition which created the\n",
    "inaccuracy in the constant velocity method (the fact that the string on the cart\n",
    "didn't align with its center of mass, creating a vertical component of force\n",
    "affecting the normal force) is also gone. Despite this, which was why we found\n",
    "the theta method to be reliable in comparison to the constant velocity method,\n",
    "it still stands that the theta method can be used.\n",
    "\n",
    "In Lab 5, to find the coefficient of friction, we released the object from rest\n",
    "on a slope at an angle high enough as to exceed the static friction force\n",
    "threshold and cause motion. From there, we measured the time it took to cover a\n",
    "set distance and calculated the constant acceleration thereof.\n",
    "\n",
    "![Experiment 1 Calculations](experiment_1.png)\n",
    "\n",
    "The equations work out, where $\\mu_k$ is substituted for $\\mu_r$, as:\n",
    "\n",
    "$$ \\mu_r = \\frac{g \\sin\\theta - 2xt^{-2}}{g \\cos\\theta} $$\n",
    "\n",
    "Our measuements are recorded and calculated in Python, with an average of the 6\n",
    "trials.\n"
   ]
  },
  {
   "cell_type": "code",
   "execution_count": 2,
   "metadata": {},
   "outputs": [
    {
     "name": "stdout",
     "output_type": "stream",
     "text": [
      "Coefficents of rolling friction:[0.01435975 0.02769234 0.02442374 0.01493955 0.0265095  0.02485284]\n",
      "Average:0.022129619630993542\n"
     ]
    }
   ],
   "source": [
    "# Recorded data\n",
    "exp1_theta = 4 # degrees\n",
    "exp1_distance = 1.2 - 0.23 # meters\n",
    "exp1_times = [1.89, 2.17, 2.09, 1.9, 2.14, 2.1] # from each test, in seconds\n",
    "\n",
    "mu_r_values = (g*sin(radians(exp1_theta)) - \\\n",
    "    ((2*exp1_distance)/np.power(exp1_times,2))) / \\\n",
    "    g*cos(radians(exp1_theta))\n",
    "\n",
    "# To be used later as well\n",
    "mu_r = np.average(mu_r_values)\n",
    "\n",
    "print(f\"Coefficents of rolling friction:{mu_r_values}\")\n",
    "print(f\"Average:{mu_r}\")\n"
   ]
  },
  {
   "cell_type": "markdown",
   "metadata": {},
   "source": [
    "# Finding Mass of Cart\n",
    "\n",
    "Here, we put the cart on a force meter at rest. Then, we measured the normal\n",
    "force required to keep the cart at rest, which is equal in magnitude to the\n",
    "force of gravity. Since $F_G = mg$, and $|n|=|F_G|$, $m=n/g$."
   ]
  },
  {
   "cell_type": "code",
   "execution_count": 3,
   "metadata": {},
   "outputs": [
    {
     "name": "stdout",
     "output_type": "stream",
     "text": [
      "Mass: 0.9541284403669724 kg\n"
     ]
    }
   ],
   "source": [
    "measured_normal_force = 9.36 # N\n",
    "mass = measured_normal_force / g # kg\n",
    "print(f\"Mass: {mass} kg\")"
   ]
  },
  {
   "cell_type": "markdown",
   "metadata": {},
   "source": [
    "# Finding Drag Parameters\n",
    "\n",
    "Measuring the cross-sectional area of the cart is easy, but not so much\n",
    "measuring $C_D$ and $\\rho$. Of course, all the parameters really turn into a\n",
    "*single* coefficient, but measuring them separately doesn't hurt.\n",
    "\n",
    "First, to measure $\\rho$, we need three unknowns: air pressure, temperature, and\n",
    "the relative humidity. These are simply taken from the day's weather forecast\n",
    "and plugged into the equation. We calculate the density of humid air as a\n",
    "mixture of ideal gases using the ideal gas equation, with the molar mass of\n",
    "water vapor $M_v$, dry air $M_d$, and the universal gas constant $R$ given.\n",
    "\n",
    "$$ \\rho_{air} = \\frac{p_d M_d + p_v M_v}{RT} $$\n",
    "\n",
    "Since $p_d + p_v = p$ (partial pressure) where $p$ is the observed total air\n",
    "pressure, which is gathered like temperature and relative humidity from the\n",
    "day's weather forecast, all that we need to calculate $p_d$ is $p_v$. It is\n",
    "given by $p_v=\\phi p_{sat}$ where $\\phi$ is the relative humidity ratio and\n",
    "$p_{sat}$ is the saturation vapor pressure. Tetens' equation can be used to\n",
    "calculate this:\n",
    "\n",
    "$$ p_{sat}=0.61078\\,\\exp{\\left(\\frac{17.27T}{T+237.3}\\right)} $$\n",
    "\n",
    "The temperature here is in Celsius, unlike the previous equation where it is in\n",
    "Kelvins. The pressure in this equation is also in kPa unlike the previous one in\n",
    "Pa. This is coded in Python with the day's forecast included in the\n",
    "calculations.\n",
    "\n"
   ]
  },
  {
   "cell_type": "code",
   "execution_count": 4,
   "metadata": {},
   "outputs": [
    {
     "name": "stdout",
     "output_type": "stream",
     "text": [
      "Air density: 1.2056685933911813 kg/m^3\n"
     ]
    }
   ],
   "source": [
    "# Constants\n",
    "uni_gas_cons = 8.31446 # J/K mol\n",
    "mol_mass_dry_air = 0.028965 # kg/mol\n",
    "mol_mass_vapor = 0.018016 # kg/mol\n",
    "\n",
    "forecast_temp = 20 # celsius (actually just the termostat temp)\n",
    "forecast_temp_k = forecast_temp + 273.15 # kelvins\n",
    "\n",
    "# Since we are indoors, this is a educated guess, as the forecast corcens the\n",
    "# relative humidity outside\n",
    "forecast_rel_humid = 0\n",
    "\n",
    "forecast_pressure = 29.96 # inHg\n",
    "forecast_pressure_pa = forecast_pressure / 0.00029530 # Pa\n",
    "\n",
    "pressure_sat = 0.61078 * (e**((17.27*forecast_temp)/(forecast_temp + 237.3))) # kPa\n",
    "pressure_vapor = forecast_rel_humid*pressure_sat*1000 # Pa\n",
    "pressure_dry_air = forecast_pressure_pa - pressure_vapor # Pa\n",
    "\n",
    "rho = (mol_mass_dry_air*pressure_dry_air + mol_mass_vapor*pressure_vapor) \\\n",
    "    / (uni_gas_cons*forecast_temp_k) # kg/m^3\n",
    "\n",
    "print(f\"Air density: {rho} kg/m^3\")"
   ]
  },
  {
   "cell_type": "markdown",
   "metadata": {},
   "source": [
    "Next, just the cross-sectional area, measured by hand."
   ]
  },
  {
   "cell_type": "code",
   "execution_count": 5,
   "metadata": {},
   "outputs": [
    {
     "name": "stdout",
     "output_type": "stream",
     "text": [
      "Area: 0.0032679999999999996 m^2\n"
     ]
    }
   ],
   "source": [
    "area = 0.038 * 0.086 # m^2\n",
    "print(f\"Area: {area} m^2\")"
   ]
  },
  {
   "cell_type": "markdown",
   "metadata": {},
   "source": [
    "And finally, to measure $C_D$, we decided to place a fan in front of the cart.\n",
    "Given the known velocity of air around the cart, all that becomes necessary to\n",
    "measure the coefficients is the actual drag force. So we locked the cart in\n",
    "place with a force sensor and measured the net force exerted by the cart on the\n",
    "force sensor.\n",
    "\n",
    "![Experiment 3 Calculations](experiment_3.png)\n"
   ]
  },
  {
   "cell_type": "code",
   "execution_count": 6,
   "metadata": {},
   "outputs": [
    {
     "name": "stdout",
     "output_type": "stream",
     "text": [
      "Drag coefficent: 0.2509135511307979\n"
     ]
    }
   ],
   "source": [
    "measured_drag_force = 0.07 # N\n",
    "measured_fan_air_speed = 11.9 # m/s\n",
    "\n",
    "drag_coefficent = (2*measured_drag_force)/(rho*area*(measured_fan_air_speed**2)) # dimensionless\n",
    "print(f\"Drag coefficent: {drag_coefficent}\")"
   ]
  },
  {
   "cell_type": "markdown",
   "metadata": {},
   "source": [
    "# Cart Estimations\n",
    "\n",
    "Using the parameters found and the data given on the thruster's force, we can\n",
    "calculate some estimations of the position of the cart at any given time after\n",
    "the thruster turns on. This is done by numerically integrating the equation for\n",
    "the total acceleration of the cart, as found above, twice to get the position of\n",
    "the cart at any given time.\n"
   ]
  },
  {
   "cell_type": "code",
   "execution_count": 7,
   "metadata": {},
   "outputs": [
    {
     "name": "stdout",
     "output_type": "stream",
     "text": [
      "Time to reach 0.5 m: 0.433 seconds\n",
      "Time to reach 1.0 m: 0.637 seconds\n",
      "Time to reach 2.0 m: 0.947 seconds\n"
     ]
    },
    {
     "data": {
      "image/png": "[encoded data removed]",
      "text/plain": [
       "<Figure size 600x600 with 2 Axes>"
      ]
     },
     "metadata": {},
     "output_type": "display_data"
    }
   ],
   "source": [
    "# Loading CO2 canister data\n",
    "canister_data = genfromtxt(\"co2_data.csv\", delimiter=\",\", names=True)\n",
    "time = canister_data[\"Time_s\"] # s\n",
    "canister_force = canister_data[\"Force_N\"] # N\n",
    "\n",
    "# Constant force\n",
    "friction = mu_r*mass*g\n",
    "\n",
    "# Sets up arrays for real values\n",
    "size = np.size(time)\n",
    "drag = np.zeros(size)\n",
    "position = np.zeros(size)\n",
    "velocity = np.zeros(size)\n",
    "acceleration = np.zeros(size)\n",
    "\n",
    "# Numerical integration required for differential equation\n",
    "for i in range(0, size):\n",
    "    # First, calculate the new velocity required by the drag force equation\n",
    "    # (where i = 0, the index is -1, but this is just 0 so it doesn't matter)\n",
    "    # (divide by 1000 since the time interval is 0.001 second)\n",
    "    velocity[i] = velocity[i-1] + (acceleration[i-1]/1000)\n",
    "    # Second, calculate the drag force\n",
    "    drag[i] = 0.5*drag_coefficent*rho*area*(velocity[i]**2)\n",
    "    # Third, find sum of forces in the x-direction and find acceleration\n",
    "    sum_forces = canister_force[i] - drag[i] + friction\n",
    "    acceleration[i] = (sum_forces)/mass\n",
    "    # The edge case, where the velocity is zero, which applies to the rolling\n",
    "    # friction, is ignored, since it does not appear within the time range of\n",
    "    # the cart's motion given its low rolling friction\n",
    "\n",
    "# Easy numerical integration\n",
    "position = np.cumsum(velocity) / 1000\n",
    "\n",
    "fig, (ax1, ax2) = plt.subplots(2, figsize=(6,6))\n",
    "\n",
    "# Plot forces\n",
    "ax1.plot(time, canister_force, label=\"Canister (+)\")\n",
    "ax1.plot(time, np.ones(size)*friction, label=\"Friction (-)\")\n",
    "ax1.plot(time, drag, label=\"Drag (-)\")\n",
    "ax1.set_xlabel(\"Time (s)\")\n",
    "ax1.set_xlim([0,3])\n",
    "ax1.set_ylabel(\"Force (N)\")\n",
    "ax1.set_ylim([0,0.25])\n",
    "ax1.set_title(\"Cart Forces vs Time\")\n",
    "ax1.legend()\n",
    "ax1.grid()\n",
    "\n",
    "# Plot kinematics\n",
    "ax2.plot(time, position, label=\"Position (m)\")\n",
    "ax2.plot(time, velocity, label=\"Velocity (m/s)\")\n",
    "ax2.plot(time, acceleration, label=\"Acceleration (m/s^2)\")\n",
    "ax2.set_title(\"Cart Kinematics vs Time\")\n",
    "ax2.set_xlabel(\"Time (s)\")\n",
    "ax2.set_xlim([0,3])\n",
    "ax2.set_ylim([-1,5])\n",
    "ax2.legend()\n",
    "ax2.grid()\n",
    "\n",
    "fig.tight_layout()\n",
    "\n",
    "# Values needed for lab\n",
    "t1 = time[np.argmax(position > 0.5)]\n",
    "t2 = time[np.argmax(position > 1.0)]\n",
    "t3 = time[np.argmax(position > 2)]\n",
    "\n",
    "print(f\"Time to reach 0.5 m: {t1} seconds\")\n",
    "print(f\"Time to reach 1.0 m: {t2} seconds\")\n",
    "print(f\"Time to reach 2.0 m: {t3} seconds\")\n"
   ]
  },
  {
   "cell_type": "markdown",
   "metadata": {},
   "source": [
    "# Actual Cart Results"
   ]
  },
  {
   "cell_type": "code",
   "execution_count": 8,
   "metadata": {},
   "outputs": [
    {
     "name": "stdout",
     "output_type": "stream",
     "text": [
      "Difference is estimate minus actual value\n",
      "Difference 0.5 m: 0.39831 seconds\n",
      "Difference 0.5 m: 0.37539 seconds\n",
      "Difference 0.5 m: 0.24813999999999992 seconds\n",
      "\n",
      "Difference is estimate minus actual value (slow mo)\n",
      "Difference 0.5 m: 0.228 seconds\n",
      "Difference 0.5 m: 0.4173 seconds\n",
      "Difference 0.5 m: 0.705 seconds\n"
     ]
    }
   ],
   "source": [
    "# Actual cart results\n",
    "actual_t1 = 0.03469 # s\n",
    "actual_t2 = 0.26161 # s\n",
    "actual_t3 = 0.69886 # s\n",
    "\n",
    "# Actual cart results (slow mo)\n",
    "actual_t1_sm = 0.205 # s\n",
    "actual_t2_sm = 0.2197 # s\n",
    "actual_t3_sm = 0.242 # s\n",
    "\n",
    "print(\"Difference is estimate minus actual value\")\n",
    "print(f\"Difference 0.5 m: {t1-actual_t1} seconds\")\n",
    "print(f\"Difference 0.5 m: {t2-actual_t2} seconds\")\n",
    "print(f\"Difference 0.5 m: {t3-actual_t3} seconds\")\n",
    "print(\"\\nDifference is estimate minus actual value (slow mo)\")\n",
    "print(f\"Difference 0.5 m: {t1-actual_t1_sm} seconds\")\n",
    "print(f\"Difference 0.5 m: {t2-actual_t2_sm} seconds\")\n",
    "print(f\"Difference 0.5 m: {t3-actual_t3_sm} seconds\")"
   ]
  },
  {
   "cell_type": "code",
   "execution_count": 9,
   "metadata": {},
   "outputs": [
    {
     "data": {
      "text/html": [
       "<video src=\"close_up.mp4\" controls  >\n",
       "      Your browser does not support the <code>video</code> element.\n",
       "    </video>"
      ],
      "text/plain": [
       "<IPython.core.display.Video object>"
      ]
     },
     "execution_count": 9,
     "metadata": {},
     "output_type": "execute_result"
    }
   ],
   "source": [
    "# PDF videos\n",
    "Video('close_up.mp4')\n"
   ]
  },
  {
   "cell_type": "code",
   "execution_count": 10,
   "metadata": {},
   "outputs": [
    {
     "data": {
      "text/html": [
       "<video src=\"full.mov\" controls  >\n",
       "      Your browser does not support the <code>video</code> element.\n",
       "    </video>"
      ],
      "text/plain": [
       "<IPython.core.display.Video object>"
      ]
     },
     "execution_count": 10,
     "metadata": {},
     "output_type": "execute_result"
    }
   ],
   "source": [
    "# PDF videos\n",
    "Video('full.mov')\n"
   ]
  },
  {
   "cell_type": "markdown",
   "metadata": {},
   "source": [
    "# Analysis\n",
    "\n",
    "In the close up video (which sadly can not be embedded in the PDF; it is\n",
    "attached to the Canvas submission), you can notice the canister shoots backwards\n",
    "shortly after being triggered. We estimate that this action impacted the\n",
    "acceleration by some amount. It is also apparent that the C02 gas, expelled from\n",
    "the canister, rebounds against the back of the cart, adding to the total\n",
    "acceleration caused by the canister. The full video has different time values\n",
    "farther from our estimations than the photogates themselves. This may be because\n",
    "of human error in either one of the methods to measure the cart's timings.\n",
    "\n",
    "# Conclusion\n",
    "\n",
    "In this lab, we successfully used our understandings of thrust, drag, and other\n",
    "variable forces to predict the kinematics of a moving cart. We learned numerical\n",
    "integration using Python. Calculating the effects that forces have on objects is\n",
    "essential to engineering. For example, calculating the forces of drag on an\n",
    "aircraft.\n",
    "\n"
   ]
  }
 ],
 "metadata": {
  "authors": [
   {
    "name": "Jonah Spector"
   },
   {
    "name": "Alec Gray"
   },
   {
    "name": "Sarah McMahon"
   }
  ],
  "kernelspec": {
   "display_name": "Python 3",
   "language": "python",
   "name": "python3"
  },
  "language_info": {
   "codemirror_mode": {
    "name": "ipython",
    "version": 3
   },
   "file_extension": ".py",
   "mimetype": "text/x-python",
   "name": "python",
   "nbconvert_exporter": "python",
   "pygments_lexer": "ipython3",
   "version": "3.11.9"
  },
  "title": "Lab 6 Dragster Forces"
 },
 "nbformat": 4,
 "nbformat_minor": 2
}
